{
 "cells": [
  {
   "cell_type": "code",
   "execution_count": 42,
   "id": "import-cell",
   "metadata": {},
   "outputs": [],
   "source": [
    "import pandas as pd"
   ]
  },
  {
   "cell_type": "code",
   "execution_count": 43,
   "id": "load-data-cell",
   "metadata": {},
   "outputs": [],
   "source": [
    "# Load the original data\n",
    "file_path = 'coingecko_data.csv'\n",
    "data = pd.read_csv(file_path)"
   ]
  },
  {
   "cell_type": "code",
   "execution_count": 44,
   "id": "basic-inspection-cell",
   "metadata": {},
   "outputs": [
    {
     "name": "stdout",
     "output_type": "stream",
     "text": [
      "Basic Info:\n",
      "<class 'pandas.core.frame.DataFrame'>\n",
      "RangeIndex: 5000 entries, 0 to 4999\n",
      "Data columns (total 7 columns):\n",
      " #   Column      Non-Null Count  Dtype  \n",
      "---  ------      --------------  -----  \n",
      " 0   Coin        5000 non-null   object \n",
      " 1   Price       5000 non-null   float64\n",
      " 2   1h          4785 non-null   float64\n",
      " 3   24h         4831 non-null   float64\n",
      " 4   7d          4745 non-null   float64\n",
      " 5   24h Volume  5000 non-null   float64\n",
      " 6   Market Cap  5000 non-null   int64  \n",
      "dtypes: float64(5), int64(1), object(1)\n",
      "memory usage: 273.6+ KB\n",
      "\n",
      "Head of the data:\n",
      "            Coin        Price   1h  24h   7d    24h Volume     Market Cap\n",
      "0   Bitcoin\\nBTC  104897.0000  0.1  0.0  0.3  1.864094e+10  2078569617305\n",
      "1  Ethereum\\nETH    3310.0900  0.1  0.9  1.8  1.094156e+10   398998724651\n",
      "2       XRP\\nXRP       3.1100  0.3  0.8  0.9  2.628303e+09   179249300675\n",
      "3   Tether\\nUSDT       0.9999  0.0  0.0  0.1  2.489091e+10   139312828676\n",
      "4    Solana\\nSOL     254.5200  0.5  0.2  5.6  4.623769e+09   123847777784\n",
      "\n",
      "Descriptive Statistics:\n",
      "                Coin          Price           1h          24h           7d  \\\n",
      "count           5000    5000.000000  4785.000000  4831.000000  4745.000000   \n",
      "unique          4971            NaN          NaN          NaN          NaN   \n",
      "top     Neiro\\nNEIRO            NaN          NaN          NaN          NaN   \n",
      "freq               3            NaN          NaN          NaN          NaN   \n",
      "mean             NaN     941.931269     1.390073     8.504575    20.258293   \n",
      "std              NaN    9459.355109     3.204403    60.127910    53.047786   \n",
      "min              NaN       0.000010     0.000000     0.000000     0.000000   \n",
      "25%              NaN       0.002563     0.100000     0.800000     4.600000   \n",
      "50%              NaN       0.024985     0.500000     2.500000    11.100000   \n",
      "75%              NaN       0.214525     1.300000     7.100000    22.600000   \n",
      "max              NaN  106559.000000    78.200000  3308.500000  1521.300000   \n",
      "\n",
      "          24h Volume    Market Cap  \n",
      "count   5.000000e+03  5.000000e+03  \n",
      "unique           NaN           NaN  \n",
      "top              NaN           NaN  \n",
      "freq             NaN           NaN  \n",
      "mean    2.245784e+07  7.606083e+08  \n",
      "std     4.892439e+08  3.021818e+10  \n",
      "min     0.000000e+00  3.889490e+05  \n",
      "25%     8.303120e+03  1.197688e+06  \n",
      "50%     8.887448e+04  3.939750e+06  \n",
      "75%     8.477915e+05  2.138897e+07  \n",
      "max     2.489091e+10  2.078570e+12  \n",
      "\n",
      "Missing Values:\n",
      "Coin            0\n",
      "Price           0\n",
      "1h            215\n",
      "24h           169\n",
      "7d            255\n",
      "24h Volume      0\n",
      "Market Cap      0\n",
      "dtype: int64\n",
      "\n",
      "Shape of the dataset (Rows, Columns): (5000, 7)\n"
     ]
    }
   ],
   "source": [
    "# Basic data inspection\n",
    "print(\"Basic Info:\")\n",
    "data.info()  # General info about the dataset\n",
    "print(\"\\nHead of the data:\")\n",
    "print(data.head())  # First few rows of the dataset\n",
    "print(\"\\nDescriptive Statistics:\")\n",
    "print(data.describe(include='all'))  # Summary statistics, including non-numeric columns\n",
    "print(\"\\nMissing Values:\")\n",
    "print(data.isnull().sum())  # Count of missing values in each column\n",
    "print(\"\\nShape of the dataset (Rows, Columns):\", data.shape)  # Number of rows and columns"
   ]
  },
  {
   "cell_type": "code",
   "execution_count": 45,
   "id": "split-column-cell",
   "metadata": {},
   "outputs": [],
   "source": [
    "# Split the 'Coin' column into 'Name' and 'Symbol'\n",
    "data[['Name', 'Symbol']] = data['Coin'].str.split('\\n', expand=True)\n",
    "data.drop(columns=['Coin'], inplace=True)"
   ]
  },
  {
   "cell_type": "code",
   "execution_count": 46,
   "id": "convert-types-cell",
   "metadata": {},
   "outputs": [],
   "source": [
    "# Convert columns to appropriate data types\n",
    "data['Price'] = pd.to_numeric(data['Price'], errors='coerce')\n",
    "data['1h'] = pd.to_numeric(data['1h'], errors='coerce')\n",
    "data['24h'] = pd.to_numeric(data['24h'], errors='coerce')\n",
    "data['7d'] = pd.to_numeric(data['7d'], errors='coerce')\n",
    "data['24h Volume'] = pd.to_numeric(data['24h Volume'], errors='coerce')\n",
    "data['Market Cap'] = pd.to_numeric(data['Market Cap'], errors='coerce')"
   ]
  },
  {
   "cell_type": "code",
   "execution_count": 47,
   "id": "post-conversion-inspection-cell",
   "metadata": {},
   "outputs": [
    {
     "name": "stdout",
     "output_type": "stream",
     "text": [
      "\n",
      "Data types after conversion:\n",
      "Price         float64\n",
      "1h            float64\n",
      "24h           float64\n",
      "7d            float64\n",
      "24h Volume    float64\n",
      "Market Cap      int64\n",
      "Name           object\n",
      "Symbol         object\n",
      "dtype: object\n",
      "\n",
      "Missing Values After Conversion:\n",
      "Price           0\n",
      "1h            215\n",
      "24h           169\n",
      "7d            255\n",
      "24h Volume      0\n",
      "Market Cap      0\n",
      "Name            0\n",
      "Symbol          0\n",
      "dtype: int64\n"
     ]
    }
   ],
   "source": [
    "# Further inspection after type conversion\n",
    "print(\"\\nData types after conversion:\")\n",
    "print(data.dtypes)\n",
    "print(\"\\nMissing Values After Conversion:\")\n",
    "print(data.isnull().sum())"
   ]
  },
  {
   "cell_type": "code",
   "execution_count": 48,
   "id": "derived-metrics-cell",
   "metadata": {},
   "outputs": [],
   "source": [
    "# Add derived metrics\n",
    "# Calculate Volume to Market Cap Ratio\n",
    "data['Volume to Market Cap Ratio'] = data['24h Volume'] / data['Market Cap']"
   ]
  },
  {
   "cell_type": "code",
   "execution_count": 49,
   "id": "categorize-prices-cell",
   "metadata": {},
   "outputs": [],
   "source": [
    "# Categorize coins by price ranges\n",
    "price_bins = [0, 1, 100, 1000, 10000, float('inf')]\n",
    "price_labels = ['< $1', '$1-$100', '$100-$1,000', '$1,000-$10,000', '> $10,000']\n",
    "data['Price Category'] = pd.cut(data['Price'], bins=price_bins, labels=price_labels)"
   ]
  },
  {
   "cell_type": "code",
   "execution_count": 50,
   "id": "reorder-columns-cell",
   "metadata": {},
   "outputs": [],
   "source": [
    "# Reorder columns so 'Name' and 'Symbol' are first\n",
    "columns_order = [\n",
    "    'Name', 'Symbol', 'Price', '1h', '24h', '7d', \n",
    "    '24h Volume', 'Market Cap', 'Volume to Market Cap Ratio', 'Price Category'\n",
    "]\n",
    "data = data[columns_order]"
   ]
  },
  {
   "cell_type": "code",
   "execution_count": 51,
   "id": "final-inspection-cell",
   "metadata": {},
   "outputs": [
    {
     "name": "stdout",
     "output_type": "stream",
     "text": [
      "\n",
      "Final Dataset Preview:\n",
      "       Name Symbol        Price   1h  24h   7d    24h Volume     Market Cap  \\\n",
      "0   Bitcoin    BTC  104897.0000  0.1  0.0  0.3  1.864094e+10  2078569617305   \n",
      "1  Ethereum    ETH    3310.0900  0.1  0.9  1.8  1.094156e+10   398998724651   \n",
      "2       XRP    XRP       3.1100  0.3  0.8  0.9  2.628303e+09   179249300675   \n",
      "3    Tether   USDT       0.9999  0.0  0.0  0.1  2.489091e+10   139312828676   \n",
      "4    Solana    SOL     254.5200  0.5  0.2  5.6  4.623769e+09   123847777784   \n",
      "\n",
      "   Volume to Market Cap Ratio  Price Category  \n",
      "0                    0.008968       > $10,000  \n",
      "1                    0.027423  $1,000-$10,000  \n",
      "2                    0.014663         $1-$100  \n",
      "3                    0.178669            < $1  \n",
      "4                    0.037334     $100-$1,000  \n",
      "\n",
      "Final Shape of the Dataset (Rows, Columns): (5000, 10)\n",
      "\n",
      "Final Missing Values:\n",
      "Name                            0\n",
      "Symbol                          0\n",
      "Price                           0\n",
      "1h                            215\n",
      "24h                           169\n",
      "7d                            255\n",
      "24h Volume                      0\n",
      "Market Cap                      0\n",
      "Volume to Market Cap Ratio      0\n",
      "Price Category                  0\n",
      "dtype: int64\n"
     ]
    }
   ],
   "source": [
    "# Final inspection before saving\n",
    "print(\"\\nFinal Dataset Preview:\")\n",
    "print(data.head())\n",
    "print(\"\\nFinal Shape of the Dataset (Rows, Columns):\", data.shape)\n",
    "print(\"\\nFinal Missing Values:\")\n",
    "print(data.isnull().sum())"
   ]
  },
  {
   "cell_type": "code",
   "execution_count": 52,
   "id": "save-data-cell",
   "metadata": {},
   "outputs": [
    {
     "name": "stdout",
     "output_type": "stream",
     "text": [
      "Cleaned data saved to: cleaned_coingecko_data.csv\n"
     ]
    }
   ],
   "source": [
    "# Save the cleaned data for Tableau\n",
    "cleaned_file_path = 'cleaned_coingecko_data.csv'\n",
    "data.to_csv(cleaned_file_path, index=False)\n",
    "\n",
    "# Print the file path for reference\n",
    "print(f\"Cleaned data saved to: {cleaned_file_path}\")"
   ]
  }
 ],
 "metadata": {
  "kernelspec": {
   "display_name": "venv",
   "language": "python",
   "name": "python3"
  },
  "language_info": {
   "codemirror_mode": {
    "name": "ipython",
    "version": 3
   },
   "file_extension": ".py",
   "mimetype": "text/x-python",
   "name": "python",
   "nbconvert_exporter": "python",
   "pygments_lexer": "ipython3",
   "version": "3.13.1"
  }
 },
 "nbformat": 4,
 "nbformat_minor": 5
}
